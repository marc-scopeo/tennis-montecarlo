{
 "cells": [
  {
   "cell_type": "code",
   "execution_count": 1,
   "id": "43285d7f",
   "metadata": {
    "pycharm": {
     "name": "#%%\n"
    }
   },
   "outputs": [],
   "source": [
    "from pair_of_players import PairOfPlayers\n",
    "from player import Player"
   ]
  },
  {
   "cell_type": "code",
   "execution_count": 2,
   "id": "3a6f12f3",
   "metadata": {
    "pycharm": {
     "name": "#%%\n"
    }
   },
   "outputs": [],
   "source": [
    "player_a = Player(55, closing_strength_factor=1.0, surviving_strength_factor=1.0)\n",
    "player_b = Player(45, closing_strength_factor=1.0, surviving_strength_factor=1.0)\n",
    "pair = PairOfPlayers(player_a, player_b)"
   ]
  },
  {
   "cell_type": "code",
   "execution_count": 7,
   "id": "a926f256",
   "metadata": {
    "pycharm": {
     "name": "#%%\n"
    }
   },
   "outputs": [],
   "source": [
    "pair.play_n_confrontations(100000)"
   ]
  },
  {
   "cell_type": "code",
   "execution_count": 8,
   "id": "600b41b7",
   "metadata": {
    "pycharm": {
     "name": "#%%\n"
    }
   },
   "outputs": [
    {
     "name": "stdout",
     "output_type": "stream",
     "text": [
      "95870 4130\n"
     ]
    }
   ],
   "source": [
    "pair.print_scores()"
   ]
  },
  {
   "cell_type": "code",
   "execution_count": null,
   "id": "761df617",
   "metadata": {
    "pycharm": {
     "name": "#%%\n"
    }
   },
   "outputs": [],
   "source": []
  }
 ],
 "metadata": {
  "kernelspec": {
   "display_name": "Python 3 (ipykernel)",
   "language": "python",
   "name": "python3"
  },
  "language_info": {
   "codemirror_mode": {
    "name": "ipython",
    "version": 3
   },
   "file_extension": ".py",
   "mimetype": "text/x-python",
   "name": "python",
   "nbconvert_exporter": "python",
   "pygments_lexer": "ipython3",
   "version": "3.9.12"
  }
 },
 "nbformat": 4,
 "nbformat_minor": 5
}